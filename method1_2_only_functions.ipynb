{
 "cells": [
  {
   "cell_type": "markdown",
   "id": "d9975835-2b56-4036-adb1-69807d1ea67d",
   "metadata": {},
   "source": [
    "# Basic functions"
   ]
  },
  {
   "cell_type": "code",
   "execution_count": null,
   "id": "e8c643ac-80af-4868-8b51-dbf86eb3bddd",
   "metadata": {},
   "outputs": [],
   "source": [
    "from math import comb\n",
    "from itertools import combinations, product\n",
    "import pandas as pd\n",
    "import time\n",
    "import sympy"
   ]
  },
  {
   "cell_type": "code",
   "execution_count": null,
   "id": "536cbbdc-c017-4ede-928a-a74e8e395542",
   "metadata": {},
   "outputs": [],
   "source": [
    "# calculating the run list of (0)strx(1)\n",
    "def runstring(strx):\n",
    "    x = \"0\"+strx+\"1\"\n",
    "    r_list = [0]\n",
    "    rank = 0\n",
    "    for i in range(1, len(x)):\n",
    "        if x[i] != x[i-1]:\n",
    "            rank += 1\n",
    "        r_list.append(rank)\n",
    "    return r_list\n",
    "\n",
    "def f1(strx):\n",
    "    sum_f1 = 0\n",
    "    for i in range(len(strx)):\n",
    "        if strx[i] == \"1\":\n",
    "            sum_f1 += (i + 1)\n",
    "    return sum_f1\n",
    "\n",
    "def f2(strx):\n",
    "    sum_f2 = 0\n",
    "    for i in range(len(strx)):\n",
    "        if strx[i] == \"1\":\n",
    "            sum_f2 += comb(i + 1, 2)\n",
    "    return sum_f2\n",
    "\n",
    "# Calculate number of new runs of x, a 2-insertion superstring on y\n",
    "def count_new_runs_x_y(x, y):\n",
    "    r_x = runstring(x)\n",
    "    r_y = runstring(y)\n",
    "    return r_x[-1] - r_y[-1]\n"
   ]
  },
  {
   "cell_type": "markdown",
   "id": "19e03ccc-1236-40c1-b722-ec39abf0c122",
   "metadata": {},
   "source": [
    "# Method 1: (f1, f2, #newruns)"
   ]
  },
  {
   "cell_type": "code",
   "execution_count": null,
   "id": "4e11bfe2-8439-4800-a954-46adfc1c2c6b",
   "metadata": {},
   "outputs": [],
   "source": [
    "# Given n, create a list of y's of all the strings of length n-2\n",
    "\n",
    "#  Input: n-2 value\n",
    "# Output: a list of all length n-2 strings\n",
    "def generate_binary_strings(n_minus_2):\n",
    "    return [''.join(seq) for seq in product('01', repeat=n_minus_2)]"
   ]
  },
  {
   "cell_type": "code",
   "execution_count": null,
   "id": "5ad6fe57-1df6-486d-9840-c051674143ce",
   "metadata": {},
   "outputs": [],
   "source": [
    "# Insert Characters to Form Length n strings\n",
    "\n",
    "#  Input: string y\n",
    "# Output: list of all possible 2 insertion on y\n",
    "def generate_2_insertions(y, char='01'):\n",
    "    n = len(y) + 2\n",
    "    inserted_strings = set()  # Use a set to avoid duplicates\n",
    "    \n",
    "    for i in range(n):\n",
    "        for j in range(i + 1, n):\n",
    "            for c1 in char:\n",
    "                for c2 in char:\n",
    "                    inserted_str = y[:i] + c1 + y[i:j-1] + c2 + y[j-1:]\n",
    "                    inserted_strings.add(inserted_str)\n",
    "                    \n",
    "    return list(inserted_strings)"
   ]
  },
  {
   "cell_type": "code",
   "execution_count": null,
   "id": "4358811a-3ed5-48e9-97e8-a7f73ef321f2",
   "metadata": {},
   "outputs": [],
   "source": [
    "def test_2_deletion_f1_f2_ONE(n):\n",
    "    start_time = time.time()  # Start the timer\n",
    "    \n",
    "    # Generate all possible binary strings of length n-2\n",
    "    y_s = generate_binary_strings(n - 2)\n",
    "    max_consecutive_duplicates_global = 0\n",
    "    sequence_with_max_duplicates = []  # To store the sequences of consecutive terms with maximum duplicates\n",
    "\n",
    "    # For each y in y_s, generate all possible x' of length n by 2 insertions\n",
    "    for y in y_s:\n",
    "        x_primes = generate_2_insertions(y)\n",
    "        \n",
    "        results = []\n",
    "        for x_prime in x_primes:\n",
    "            f1r_value = f1(x_prime)\n",
    "            f2r_value = f2(x_prime)\n",
    "            new_runs = count_new_runs_x_y(x_prime, y)\n",
    "            \n",
    "            results.append({\n",
    "                'y': y,\n",
    "                'x_prime': x_prime,\n",
    "                'f1r': f1r_value,\n",
    "                'f2r': f2r_value,\n",
    "                'new_runs': new_runs\n",
    "            })\n",
    "        \n",
    "        # Create DataFrame for the current y's results\n",
    "        df_y = pd.DataFrame(results)\n",
    "        \n",
    "        # Sort the DataFrame by the tuple (f1r, f2r, new_runs)\n",
    "        df_y_sorted = df_y.sort_values(by=['f1r', 'f2r', 'new_runs'], ascending=[True, True, True])\n",
    "        \n",
    "        # Check for consecutive duplicates and track sequences with max duplicates\n",
    "        current_count = 1\n",
    "        current_consecutive_terms = [df_y_sorted.iloc[0]]  # Initialize with the first term\n",
    "        \n",
    "        for i in range(1, len(df_y_sorted)):\n",
    "            if (\n",
    "                df_y_sorted.iloc[i]['f1r'] == df_y_sorted.iloc[i-1]['f1r'] and\n",
    "                df_y_sorted.iloc[i]['f2r'] == df_y_sorted.iloc[i-1]['f2r'] and\n",
    "                df_y_sorted.iloc[i]['new_runs'] == df_y_sorted.iloc[i-1]['new_runs']\n",
    "            ):\n",
    "                current_count += 1\n",
    "                current_consecutive_terms.append(df_y_sorted.iloc[i])\n",
    "            else:\n",
    "                if current_count > max_consecutive_duplicates_global:\n",
    "                    max_consecutive_duplicates_global = current_count\n",
    "                    sequence_with_max_duplicates = [\n",
    "                        [\n",
    "                            current_consecutive_terms[0]['y'],\n",
    "                            [term['x_prime'] for term in current_consecutive_terms],\n",
    "                            current_consecutive_terms[0]['f1r'],\n",
    "                            current_consecutive_terms[0]['f2r'],\n",
    "                            current_consecutive_terms[0]['new_runs']\n",
    "                        ]\n",
    "                    ]\n",
    "                elif current_count == max_consecutive_duplicates_global:\n",
    "                    sequence_with_max_duplicates.append(\n",
    "                        [\n",
    "                            current_consecutive_terms[0]['y'],\n",
    "                            [term['x_prime'] for term in current_consecutive_terms],\n",
    "                            current_consecutive_terms[0]['f1r'],\n",
    "                            current_consecutive_terms[0]['f2r'],\n",
    "                            current_consecutive_terms[0]['new_runs']\n",
    "                        ]\n",
    "                    )\n",
    "                # Reset for the next sequence\n",
    "                current_count = 1\n",
    "                current_consecutive_terms = [df_y_sorted.iloc[i]]\n",
    "        \n",
    "        # Final check after loop\n",
    "        if current_count > max_consecutive_duplicates_global:\n",
    "            max_consecutive_duplicates_global = current_count\n",
    "            sequence_with_max_duplicates = [\n",
    "                [\n",
    "                    current_consecutive_terms[0]['y'],\n",
    "                    [term['x_prime'] for term in current_consecutive_terms],\n",
    "                    current_consecutive_terms[0]['f1r'],\n",
    "                    current_consecutive_terms[0]['f2r'],\n",
    "                    current_consecutive_terms[0]['new_runs']\n",
    "                ]\n",
    "            ]\n",
    "        elif current_count == max_consecutive_duplicates_global:\n",
    "            sequence_with_max_duplicates.append(\n",
    "                [\n",
    "                    current_consecutive_terms[0]['y'],\n",
    "                    [term['x_prime'] for term in current_consecutive_terms],\n",
    "                    current_consecutive_terms[0]['f1r'],\n",
    "                    current_consecutive_terms[0]['f2r'],\n",
    "                    current_consecutive_terms[0]['new_runs']\n",
    "                ]\n",
    "            )\n",
    "    end_time = time.time()  # End the timer\n",
    "    runtime = end_time - start_time  # Calculate the runtime\n",
    "    print(f\"Time: {runtime:.2f} seconds\")\n",
    "\n",
    "    print(f\"For n={n}, Maximum consecutive duplicates among all y's: {max_consecutive_duplicates_global}\\n\")\n",
    "    for seq in sequence_with_max_duplicates:\n",
    "        print(f\"y = {seq[0]},  2-Insertion:{seq[1]},  f1 = {seq[2]}, f2 = {seq[3]}, NewRuns = {seq[4]}\")\n",
    "    \n",
    "\n",
    "    \n",
    "    # Return the maximum number of consecutive duplicates and the sequences that achieve this max\n",
    "    # return max_consecutive_duplicates_global, sequence_with_max_duplicates\n"
   ]
  },
  {
   "cell_type": "code",
   "execution_count": null,
   "id": "90775870-69a4-4ebc-85d6-36cf19956d88",
   "metadata": {},
   "outputs": [],
   "source": [
    "test_2_deletion_f1_f2_ONE(10)"
   ]
  },
  {
   "cell_type": "code",
   "execution_count": null,
   "id": "efd37cfd-3f24-4dac-a766-89f3070b5360",
   "metadata": {},
   "outputs": [],
   "source": [
    "test_2_deletion_f1_f2_ONE(11)"
   ]
  },
  {
   "cell_type": "code",
   "execution_count": null,
   "id": "d3eddde8-d575-4848-8b05-04ca2fa65226",
   "metadata": {},
   "outputs": [],
   "source": [
    "test_2_deletion_f1_f2_ONE(12)"
   ]
  },
  {
   "cell_type": "code",
   "execution_count": null,
   "id": "f00857b9-70d8-417f-931f-a1cb1649bd19",
   "metadata": {
    "scrolled": true
   },
   "outputs": [],
   "source": [
    "test_2_deletion_f1_f2_ONE(13)"
   ]
  },
  {
   "cell_type": "code",
   "execution_count": null,
   "id": "4acfeef5-3bf2-4ba9-b04b-f3fef5b75745",
   "metadata": {},
   "outputs": [],
   "source": [
    "test_2_deletion_f1_f2_ONE(14)"
   ]
  },
  {
   "cell_type": "code",
   "execution_count": null,
   "id": "758464eb-a659-4ca9-8284-212a67dbd227",
   "metadata": {},
   "outputs": [],
   "source": [
    "# checking:\n",
    "y = \"000001111100\"\n",
    "x1 = '00000111101010'\n",
    "x2 = '10100001111100'\n",
    "x3 = '00001010111100'\n",
    "print(f1(x1), f1(x2), f1(x3), f2(x1), f2(x2), f2(x3))"
   ]
  },
  {
   "cell_type": "code",
   "execution_count": null,
   "id": "5c732b5a-dc8a-41f2-b129-ed25d060ddbf",
   "metadata": {},
   "outputs": [],
   "source": []
  },
  {
   "cell_type": "markdown",
   "id": "df14f6ea-8f69-471a-a65b-2cb524024a14",
   "metadata": {},
   "source": [
    "# Method 2: using (f1 mod p, f2 mod p, #), but skip since 1 doesn't work"
   ]
  },
  {
   "cell_type": "code",
   "execution_count": null,
   "id": "cacd6f90-7409-4338-99ad-a0ddfaa88cf7",
   "metadata": {},
   "outputs": [],
   "source": []
  }
 ],
 "metadata": {
  "kernelspec": {
   "display_name": "Python 3 (ipykernel)",
   "language": "python",
   "name": "python3"
  },
  "language_info": {
   "codemirror_mode": {
    "name": "ipython",
    "version": 3
   },
   "file_extension": ".py",
   "mimetype": "text/x-python",
   "name": "python",
   "nbconvert_exporter": "python",
   "pygments_lexer": "ipython3",
   "version": "3.11.9"
  }
 },
 "nbformat": 4,
 "nbformat_minor": 5
}
