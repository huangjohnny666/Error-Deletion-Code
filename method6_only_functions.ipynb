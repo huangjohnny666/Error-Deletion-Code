{
 "cells": [
  {
   "cell_type": "markdown",
   "id": "c428a355-549c-4acf-9083-fd5cf7df3636",
   "metadata": {},
   "source": [
    "# Basic functions"
   ]
  },
  {
   "cell_type": "code",
   "execution_count": null,
   "id": "3d31b4c4-b5b8-4073-9a26-9d4f429d7c7c",
   "metadata": {},
   "outputs": [],
   "source": [
    "from math import comb\n",
    "from itertools import combinations, product\n",
    "import pandas as pd\n",
    "import time\n",
    "import sympy\n"
   ]
  },
  {
   "cell_type": "code",
   "execution_count": null,
   "id": "8112461d-435d-4d64-b022-1487c01e17a6",
   "metadata": {},
   "outputs": [],
   "source": [
    "def switch_string(strx):\n",
    "    x = \"0\"+strx+\"1\"\n",
    "    s = [0]\n",
    "    for i in range(1, len(x)):\n",
    "        if x[i] != x[i-1]:\n",
    "            s.append(i)\n",
    "        else:\n",
    "            s.append(0)\n",
    "    return s\n",
    "\n",
    "# testing\n",
    "test = '001011'\n",
    "switch_string(test)"
   ]
  },
  {
   "cell_type": "code",
   "execution_count": null,
   "id": "2dc62815-9b70-44ba-b235-9744dbc0dc1d",
   "metadata": {},
   "outputs": [],
   "source": [
    "def f1sx(strx):\n",
    "    switch_str_x = switch_string(strx)\n",
    "    return sum(switch_str_x)\n",
    "\n",
    "f1sx(test) # should return 3+4+5=12"
   ]
  },
  {
   "cell_type": "code",
   "execution_count": null,
   "id": "56054ac4-b976-4a99-b396-f9779036e506",
   "metadata": {},
   "outputs": [],
   "source": [
    "def f2sx(strx):\n",
    "    switch_str_x = switch_string(strx)\n",
    "    sum_f2s = 0\n",
    "    for index in switch_str_x:\n",
    "        if index != 0:\n",
    "            sum_f2s += comb(index, 2)\n",
    "    return sum_f2s\n",
    "\n",
    "f2sx(test) # should return (3c2)+(4c2)+(5c2) = 3+6+10"
   ]
  },
  {
   "cell_type": "code",
   "execution_count": null,
   "id": "6925e746-d4d3-413d-8307-7871601929df",
   "metadata": {},
   "outputs": [],
   "source": [
    "# Given n, create a list of y's of all the strings of length n-2\n",
    "\n",
    "#  Input: n-2 value\n",
    "# Output: a list of all length n-2 strings\n",
    "def generate_binary_strings(n_minus_2):\n",
    "    return [''.join(seq) for seq in product('01', repeat=n_minus_2)]"
   ]
  },
  {
   "cell_type": "code",
   "execution_count": null,
   "id": "9def899e-89d6-418b-b741-d9f5c789e0fa",
   "metadata": {},
   "outputs": [],
   "source": [
    "# Insert Characters to Form Length n strings\n",
    "\n",
    "#  Input: string y\n",
    "# Output: list of all possible 2 insertion on y\n",
    "def generate_2_insertions(y, char='01'):\n",
    "    n = len(y) + 2\n",
    "    inserted_strings = set()  # Use a set to avoid duplicates\n",
    "    \n",
    "    for i in range(n):\n",
    "        for j in range(i + 1, n):\n",
    "            for c1 in char:\n",
    "                for c2 in char:\n",
    "                    inserted_str = y[:i] + c1 + y[i:j-1] + c2 + y[j-1:]\n",
    "                    inserted_strings.add(inserted_str)\n",
    "                    \n",
    "    return list(inserted_strings)"
   ]
  },
  {
   "cell_type": "markdown",
   "id": "7ca27433-ef3a-4db4-89a9-8386e0229982",
   "metadata": {},
   "source": [
    "# Method 6: (f1s, f2s, #0, #1, #01, #10)"
   ]
  },
  {
   "cell_type": "code",
   "execution_count": null,
   "id": "6fc40e3e-a587-457a-b5fb-5f0f8c8eb153",
   "metadata": {},
   "outputs": [],
   "source": [
    "import pandas as pd\n",
    "import time\n",
    "\n",
    "# Assuming you have already defined f1s, f2s, and other required functions\n",
    "\n",
    "def test_2_deletion_SIX(n):\n",
    "\n",
    "    start_time = time.time()  # Start the timer\n",
    "    \n",
    "    # Generate all possible binary strings of length n-2\n",
    "    y_s = generate_binary_strings(n - 2)\n",
    "    max_consecutive_duplicates_global = 0\n",
    "    sequence_with_max_duplicates = []  # To store the sequences of consecutive terms with maximum duplicates\n",
    "\n",
    "    # For each y in y_s, generate all possible x' of length n by 2 insertions\n",
    "    for y in y_s:\n",
    "        x_primes = generate_2_insertions(y)\n",
    "        \n",
    "        results = []\n",
    "        for x_prime in x_primes:\n",
    "            f1s_value = f1s(x_prime)  # Calculate f1s\n",
    "            f2s_value = f2s(x_prime)  # Calculate f2s\n",
    "\n",
    "            # Counting number of 0, 1, 01, 10\n",
    "            num_0_val = x_prime.count(\"0\")\n",
    "            num_1_val = x_prime.count(\"1\")\n",
    "            num_01_val = x_prime.count(\"01\")\n",
    "            num_10_val = x_prime.count(\"10\")\n",
    "            \n",
    "            results.append({\n",
    "                'y': y,\n",
    "                'x_prime': x_prime,\n",
    "                'f1s': f1s_value,\n",
    "                'f2s': f2s_value,\n",
    "                'num_0': num_0_val,\n",
    "                'num_1': num_1_val,\n",
    "                'num_01': num_01_val,\n",
    "                'num_10': num_10_val\n",
    "            })\n",
    "        \n",
    "        # Create DataFrame for the current y's results\n",
    "        df_y = pd.DataFrame(results)\n",
    "        \n",
    "        # Sort the DataFrame by the tuple (f1s, f2s, num_0, num_1, num_01, num_10)\n",
    "        df_y_sorted = df_y.sort_values(\n",
    "            by=['f1s', 'f2s', 'num_0', 'num_1', 'num_01', 'num_10'],\n",
    "            ascending=[True, True, True, True, True, True]\n",
    "        )\n",
    "        \n",
    "        # Check for consecutive duplicates and track sequences with max duplicates\n",
    "        current_count = 1\n",
    "        current_consecutive_terms = [df_y_sorted.iloc[0]]  # Initialize with the first term\n",
    "        \n",
    "        for i in range(1, len(df_y_sorted)):\n",
    "            if (\n",
    "                df_y_sorted.iloc[i]['f1s'] == df_y_sorted.iloc[i-1]['f1s'] and\n",
    "                df_y_sorted.iloc[i]['f2s'] == df_y_sorted.iloc[i-1]['f2s'] and\n",
    "                df_y_sorted.iloc[i]['num_0'] == df_y_sorted.iloc[i-1]['num_0'] and\n",
    "                df_y_sorted.iloc[i]['num_1'] == df_y_sorted.iloc[i-1]['num_1'] and\n",
    "                df_y_sorted.iloc[i]['num_01'] == df_y_sorted.iloc[i-1]['num_01'] and\n",
    "                df_y_sorted.iloc[i]['num_10'] == df_y_sorted.iloc[i-1]['num_10']\n",
    "            ):\n",
    "                current_count += 1\n",
    "                current_consecutive_terms.append(df_y_sorted.iloc[i])\n",
    "            else:\n",
    "                if current_count > max_consecutive_duplicates_global:\n",
    "                    max_consecutive_duplicates_global = current_count\n",
    "                    sequence_with_max_duplicates = [\n",
    "                        [\n",
    "                            current_consecutive_terms[0]['y'],\n",
    "                            [term['x_prime'] for term in current_consecutive_terms],\n",
    "                            current_consecutive_terms[0]['f1s'],\n",
    "                            current_consecutive_terms[0]['f2s'],\n",
    "                            current_consecutive_terms[0]['num_0'],\n",
    "                            current_consecutive_terms[0]['num_1'],\n",
    "                            current_consecutive_terms[0]['num_01'],\n",
    "                            current_consecutive_terms[0]['num_10']\n",
    "                        ]\n",
    "                    ]\n",
    "                elif current_count == max_consecutive_duplicates_global:\n",
    "                    sequence_with_max_duplicates.append(\n",
    "                        [\n",
    "                            current_consecutive_terms[0]['y'],\n",
    "                            [term['x_prime'] for term in current_consecutive_terms],\n",
    "                            current_consecutive_terms[0]['f1s'],\n",
    "                            current_consecutive_terms[0]['f2s'],\n",
    "                            current_consecutive_terms[0]['num_0'],\n",
    "                            current_consecutive_terms[0]['num_1'],\n",
    "                            current_consecutive_terms[0]['num_01'],\n",
    "                            current_consecutive_terms[0]['num_10']\n",
    "                        ]\n",
    "                    )\n",
    "                # Reset for the next sequence\n",
    "                current_count = 1\n",
    "                current_consecutive_terms = [df_y_sorted.iloc[i]]\n",
    "        \n",
    "        # Final check after loop\n",
    "        if current_count > max_consecutive_duplicates_global:\n",
    "            max_consecutive_duplicates_global = current_count\n",
    "            sequence_with_max_duplicates = [\n",
    "                [\n",
    "                    current_consecutive_terms[0]['y'],\n",
    "                    [term['x_prime'] for term in current_consecutive_terms],\n",
    "                    current_consecutive_terms[0]['f1s'],\n",
    "                    current_consecutive_terms[0]['f2s'],\n",
    "                    current_consecutive_terms[0]['num_0'],\n",
    "                    current_consecutive_terms[0]['num_1'],\n",
    "                    current_consecutive_terms[0]['num_01'],\n",
    "                    current_consecutive_terms[0]['num_10']\n",
    "                ]\n",
    "            ]\n",
    "        elif current_count == max_consecutive_duplicates_global:\n",
    "            sequence_with_max_duplicates.append(\n",
    "                [\n",
    "                    current_consecutive_terms[0]['y'],\n",
    "                    [term['x_prime'] for term in current_consecutive_terms],\n",
    "                    current_consecutive_terms[0]['f1s'],\n",
    "                    current_consecutive_terms[0]['f2s'],\n",
    "                    current_consecutive_terms[0]['num_0'],\n",
    "                    current_consecutive_terms[0]['num_1'],\n",
    "                    current_consecutive_terms[0]['num_01'],\n",
    "                    current_consecutive_terms[0]['num_10']\n",
    "                ]\n",
    "            )\n",
    "    \n",
    "    end_time = time.time()  # End the timer\n",
    "    runtime = end_time - start_time  # Calculate the runtime\n",
    "    print(f\"Time: {runtime:.2f} seconds\")\n",
    "\n",
    "    print(f\"For n={n}, Maximum consecutive duplicates among all y's: {max_consecutive_duplicates_global}\\n\")\n",
    "    for seq in sequence_with_max_duplicates:\n",
    "        print(f\"y = {seq[0]},  2-Insertion: {seq[1]},  f1s = {seq[2]}, f2s = {seq[3]}, #0 = {seq[4]}, #1 = {seq[5]}, #01 = {seq[6]}, #10 = {seq[7]}\")\n",
    "        \n",
    "    # Return the maximum number of consecutive duplicates and the sequences that achieve this max\n",
    "    return max_consecutive_duplicates_global, sequence_with_max_duplicates\n"
   ]
  },
  {
   "cell_type": "code",
   "execution_count": null,
   "id": "a7e0ab7e-ab2b-42b7-b5a8-20363f57508e",
   "metadata": {},
   "outputs": [],
   "source": [
    "def print_f1s_f2s(seq):\n",
    "    # assuming seq[0] = y, seq[1] is the list of x' that share the same (f1s, f2s, #0, #1, #01, #10)\n",
    "    y = seq[0]\n",
    "    # print(f'y={y}')\n",
    "    f1s_value = f1s(seq[1][0])\n",
    "    f2s_value = f2s(seq[1][1])\n",
    "    for x_prime in seq[1]:\n",
    "        # print(f'for x\\'={x_prime}, f1s={f1s(x_prime)}, f2s={f2s(x_prime)}')\n",
    "        if f1s(x_prime) != f1s_value or f2s(x_prime) != f2s_value:\n",
    "            return False\n",
    "    return True"
   ]
  },
  {
   "cell_type": "code",
   "execution_count": null,
   "id": "3a56932a-da3b-45f1-9c7d-a689f5799a55",
   "metadata": {},
   "outputs": [],
   "source": [
    "for n in range(3, 10):\n",
    "    \n",
    "    test_2_deletion_SIX(n)"
   ]
  },
  {
   "cell_type": "code",
   "execution_count": null,
   "id": "465a1b94-bf6d-415a-ac77-fcb1a6bca818",
   "metadata": {
    "scrolled": true
   },
   "outputs": [],
   "source": [
    "method6_L_10, method6_seq_10 = test_2_deletion_SIX(10)"
   ]
  },
  {
   "cell_type": "code",
   "execution_count": null,
   "id": "6444170f-0fff-4e14-bf85-67058a9bb899",
   "metadata": {},
   "outputs": [],
   "source": [
    "len(method6_seq_10)"
   ]
  },
  {
   "cell_type": "code",
   "execution_count": null,
   "id": "37a15534-2c66-48a8-97ad-d31b0df58823",
   "metadata": {},
   "outputs": [],
   "source": [
    "len(method6_seq_10)"
   ]
  },
  {
   "cell_type": "code",
   "execution_count": null,
   "id": "299ef029-2c1e-4c8c-85d6-2024a17f9a64",
   "metadata": {
    "scrolled": true
   },
   "outputs": [],
   "source": [
    "for dup in method6_seq_10:\n",
    "    print(print_f1s_f2s(dup))"
   ]
  },
  {
   "cell_type": "code",
   "execution_count": null,
   "id": "f42844cf-421d-4b97-a6fa-1d48a4052c94",
   "metadata": {
    "scrolled": true
   },
   "outputs": [],
   "source": [
    "method6_L_10, method6_seq_10 = test_2_deletion_SIX(11)"
   ]
  },
  {
   "cell_type": "code",
   "execution_count": null,
   "id": "e43c2a61-84a1-4fda-beb4-41326126a974",
   "metadata": {
    "scrolled": true
   },
   "outputs": [],
   "source": [
    "method6_L_10, method6_seq_10 = test_2_deletion_SIX(12)"
   ]
  },
  {
   "cell_type": "code",
   "execution_count": null,
   "id": "5ca13dd2-49bb-42ed-a364-bad5e0b2fba7",
   "metadata": {
    "scrolled": true
   },
   "outputs": [],
   "source": [
    "method6_L_10, method6_seq_10 = test_2_deletion_SIX(13)"
   ]
  },
  {
   "cell_type": "code",
   "execution_count": null,
   "id": "b380a6bd-8d1e-46d1-8ac0-d4107590d045",
   "metadata": {
    "scrolled": true
   },
   "outputs": [],
   "source": [
    "method6_L_10, method6_seq_10 = test_2_deletion_SIX(14)"
   ]
  },
  {
   "cell_type": "code",
   "execution_count": null,
   "id": "e9a358f7-5483-4550-839a-67671dbdf9b8",
   "metadata": {
    "scrolled": true
   },
   "outputs": [],
   "source": [
    "method6_L_10, method6_seq_10 = test_2_deletion_SIX(15)"
   ]
  },
  {
   "cell_type": "code",
   "execution_count": null,
   "id": "e6c8f8b4-5e5a-4f45-b83d-49b95ac111c4",
   "metadata": {
    "scrolled": true
   },
   "outputs": [],
   "source": [
    "method6_L_10, method6_seq_10 = test_2_deletion_SIX(16)"
   ]
  },
  {
   "cell_type": "code",
   "execution_count": null,
   "id": "3f984217-3ec7-4fc0-913c-62ea61d11b68",
   "metadata": {
    "scrolled": true
   },
   "outputs": [],
   "source": [
    "method6_L_10, method6_seq_10 = test_2_deletion_SIX(17)"
   ]
  },
  {
   "cell_type": "code",
   "execution_count": null,
   "id": "9b5ae5b4-63b9-4845-8093-46676768b749",
   "metadata": {
    "scrolled": true
   },
   "outputs": [],
   "source": [
    "method6_L_10, method6_seq_10 = test_2_deletion_SIX(18)"
   ]
  },
  {
   "cell_type": "code",
   "execution_count": null,
   "id": "049beb67-9dcf-4c30-b932-7d4392b4c376",
   "metadata": {
    "scrolled": true
   },
   "outputs": [],
   "source": [
    "method6_L_10, method6_seq_10 = test_2_deletion_SIX(19)"
   ]
  },
  {
   "cell_type": "code",
   "execution_count": null,
   "id": "b236f98a-bf15-4361-bf21-b766998d1e5a",
   "metadata": {
    "scrolled": true
   },
   "outputs": [],
   "source": [
    "method6_L_10, method6_seq_10 = test_2_deletion_SIX(20)"
   ]
  },
  {
   "cell_type": "code",
   "execution_count": null,
   "id": "307883be-7715-4a6c-b638-2ffafefb75a2",
   "metadata": {},
   "outputs": [],
   "source": [
    "# taking f1s mod n and f2s mod n^2"
   ]
  },
  {
   "cell_type": "code",
   "execution_count": null,
   "id": "1c1ac9d0-b386-4860-aeb6-e4e1e5b6ebd0",
   "metadata": {},
   "outputs": [],
   "source": [
    "import pandas as pd\n",
    "import time\n",
    "\n",
    "# Assuming you have already defined f1s, f2s, and other required functions\n",
    "\n",
    "def test_2_deletion_SIX_mod(n):\n",
    "\n",
    "    start_time = time.time()  # Start the timer\n",
    "    \n",
    "    # Generate all possible binary strings of length n-2\n",
    "    y_s = generate_binary_strings(n - 2)\n",
    "    max_consecutive_duplicates_global = 0\n",
    "    sequence_with_max_duplicates = []  # To store the sequences of consecutive terms with maximum duplicates\n",
    "\n",
    "    # For each y in y_s, generate all possible x' of length n by 2 insertions\n",
    "    for y in y_s:\n",
    "        x_primes = generate_2_insertions(y)\n",
    "        \n",
    "        results = []\n",
    "        n_square = n*n\n",
    "        for x_prime in x_primes:\n",
    "            f1s_value = f1s(x_prime) % n # Calculate f1s\n",
    "            f2s_value = f2s(x_prime) % n_square # Calculate f2s\n",
    "\n",
    "            # Counting number of 0, 1, 01, 10\n",
    "            num_0_val = x_prime.count(\"0\")\n",
    "            num_1_val = x_prime.count(\"1\")\n",
    "            num_01_val = x_prime.count(\"01\")\n",
    "            num_10_val = x_prime.count(\"10\")\n",
    "            \n",
    "            results.append({\n",
    "                'y': y,\n",
    "                'x_prime': x_prime,\n",
    "                'f1s': f1s_value,\n",
    "                'f2s': f2s_value,\n",
    "                'num_0': num_0_val,\n",
    "                'num_1': num_1_val,\n",
    "                'num_01': num_01_val,\n",
    "                'num_10': num_10_val\n",
    "            })\n",
    "        \n",
    "        # Create DataFrame for the current y's results\n",
    "        df_y = pd.DataFrame(results)\n",
    "        \n",
    "        # Sort the DataFrame by the tuple (f1s, f2s, num_0, num_1, num_01, num_10)\n",
    "        df_y_sorted = df_y.sort_values(\n",
    "            by=['f1s', 'f2s', 'num_0', 'num_1', 'num_01', 'num_10'],\n",
    "            ascending=[True, True, True, True, True, True]\n",
    "        )\n",
    "        \n",
    "        # Check for consecutive duplicates and track sequences with max duplicates\n",
    "        current_count = 1\n",
    "        current_consecutive_terms = [df_y_sorted.iloc[0]]  # Initialize with the first term\n",
    "        \n",
    "        for i in range(1, len(df_y_sorted)):\n",
    "            if (\n",
    "                df_y_sorted.iloc[i]['f1s'] == df_y_sorted.iloc[i-1]['f1s'] and\n",
    "                df_y_sorted.iloc[i]['f2s'] == df_y_sorted.iloc[i-1]['f2s'] and\n",
    "                df_y_sorted.iloc[i]['num_0'] == df_y_sorted.iloc[i-1]['num_0'] and\n",
    "                df_y_sorted.iloc[i]['num_1'] == df_y_sorted.iloc[i-1]['num_1'] and\n",
    "                df_y_sorted.iloc[i]['num_01'] == df_y_sorted.iloc[i-1]['num_01'] and\n",
    "                df_y_sorted.iloc[i]['num_10'] == df_y_sorted.iloc[i-1]['num_10']\n",
    "            ):\n",
    "                current_count += 1\n",
    "                current_consecutive_terms.append(df_y_sorted.iloc[i])\n",
    "            else:\n",
    "                if current_count > max_consecutive_duplicates_global:\n",
    "                    max_consecutive_duplicates_global = current_count\n",
    "                    sequence_with_max_duplicates = [\n",
    "                        [\n",
    "                            current_consecutive_terms[0]['y'],\n",
    "                            [term['x_prime'] for term in current_consecutive_terms],\n",
    "                            current_consecutive_terms[0]['f1s'],\n",
    "                            current_consecutive_terms[0]['f2s'],\n",
    "                            current_consecutive_terms[0]['num_0'],\n",
    "                            current_consecutive_terms[0]['num_1'],\n",
    "                            current_consecutive_terms[0]['num_01'],\n",
    "                            current_consecutive_terms[0]['num_10']\n",
    "                        ]\n",
    "                    ]\n",
    "                elif current_count == max_consecutive_duplicates_global:\n",
    "                    sequence_with_max_duplicates.append(\n",
    "                        [\n",
    "                            current_consecutive_terms[0]['y'],\n",
    "                            [term['x_prime'] for term in current_consecutive_terms],\n",
    "                            current_consecutive_terms[0]['f1s'],\n",
    "                            current_consecutive_terms[0]['f2s'],\n",
    "                            current_consecutive_terms[0]['num_0'],\n",
    "                            current_consecutive_terms[0]['num_1'],\n",
    "                            current_consecutive_terms[0]['num_01'],\n",
    "                            current_consecutive_terms[0]['num_10']\n",
    "                        ]\n",
    "                    )\n",
    "                # Reset for the next sequence\n",
    "                current_count = 1\n",
    "                current_consecutive_terms = [df_y_sorted.iloc[i]]\n",
    "        \n",
    "        # Final check after loop\n",
    "        if current_count > max_consecutive_duplicates_global:\n",
    "            max_consecutive_duplicates_global = current_count\n",
    "            sequence_with_max_duplicates = [\n",
    "                [\n",
    "                    current_consecutive_terms[0]['y'],\n",
    "                    [term['x_prime'] for term in current_consecutive_terms],\n",
    "                    current_consecutive_terms[0]['f1s'],\n",
    "                    current_consecutive_terms[0]['f2s'],\n",
    "                    current_consecutive_terms[0]['num_0'],\n",
    "                    current_consecutive_terms[0]['num_1'],\n",
    "                    current_consecutive_terms[0]['num_01'],\n",
    "                    current_consecutive_terms[0]['num_10']\n",
    "                ]\n",
    "            ]\n",
    "        elif current_count == max_consecutive_duplicates_global:\n",
    "            sequence_with_max_duplicates.append(\n",
    "                [\n",
    "                    current_consecutive_terms[0]['y'],\n",
    "                    [term['x_prime'] for term in current_consecutive_terms],\n",
    "                    current_consecutive_terms[0]['f1s'],\n",
    "                    current_consecutive_terms[0]['f2s'],\n",
    "                    current_consecutive_terms[0]['num_0'],\n",
    "                    current_consecutive_terms[0]['num_1'],\n",
    "                    current_consecutive_terms[0]['num_01'],\n",
    "                    current_consecutive_terms[0]['num_10']\n",
    "                ]\n",
    "            )\n",
    "    \n",
    "    end_time = time.time()  # End the timer\n",
    "    runtime = end_time - start_time  # Calculate the runtime\n",
    "    print(f\"Time: {runtime:.2f} seconds\")\n",
    "\n",
    "    print(f\"For n={n}, Maximum consecutive duplicates among all y's: {max_consecutive_duplicates_global}\\n\")\n",
    "    for seq in sequence_with_max_duplicates:\n",
    "        print(f\"y = {seq[0]},  2-Insertion: {seq[1]},  f1s mod n = {seq[2]}, f2s mod n^2 = {seq[3]}, #0 = {seq[4]}, #1 = {seq[5]}, #01 = {seq[6]}, #10 = {seq[7]}\")\n",
    "        \n",
    "    # Return the maximum number of consecutive duplicates and the sequences that achieve this max\n",
    "    return max_consecutive_duplicates_global, sequence_with_max_duplicates\n"
   ]
  },
  {
   "cell_type": "code",
   "execution_count": null,
   "id": "9c3f4425-7ed0-4afd-bd39-37545b17d36c",
   "metadata": {
    "scrolled": true
   },
   "outputs": [],
   "source": [
    "method6_mod_L_10, method6_mod_seq_10 = test_2_deletion_SIX_mod(10)"
   ]
  },
  {
   "cell_type": "code",
   "execution_count": null,
   "id": "845cefaa-5793-4b93-b81f-fa12f9c03cb6",
   "metadata": {
    "scrolled": true
   },
   "outputs": [],
   "source": [
    "method6_mod_L_11, method6_mod_seq_11 = test_2_deletion_SIX_mod(11)"
   ]
  },
  {
   "cell_type": "code",
   "execution_count": null,
   "id": "4a7f146a-c8b9-4d05-8963-ed9bd7aecd72",
   "metadata": {},
   "outputs": [],
   "source": [
    "method6_mod_L_12, method6_mod_seq_12 = test_2_deletion_SIX_mod(12)"
   ]
  },
  {
   "cell_type": "code",
   "execution_count": null,
   "id": "87e015dc-d690-42c5-a9de-6e26fd2a2acd",
   "metadata": {},
   "outputs": [],
   "source": [
    "method6_mod_L_13, method6_mod_seq_13 = test_2_deletion_SIX_mod(13)"
   ]
  },
  {
   "cell_type": "code",
   "execution_count": null,
   "id": "b23c8aee-61fc-477f-9576-14253380d9ee",
   "metadata": {},
   "outputs": [],
   "source": [
    "method6_mod_L_14, method6_mod_seq_14 = test_2_deletion_SIX_mod(14)"
   ]
  },
  {
   "cell_type": "code",
   "execution_count": null,
   "id": "89b48c5b-668f-491f-97cd-cc6cc137b468",
   "metadata": {},
   "outputs": [],
   "source": [
    "method6_mod_L_15, method6_mod_seq_15 = test_2_deletion_SIX_mod(15)"
   ]
  },
  {
   "cell_type": "code",
   "execution_count": null,
   "id": "95229307-9d3e-4d90-b0bd-fe09eec3fcc6",
   "metadata": {},
   "outputs": [],
   "source": [
    "method6_mod_L_16, method6_mod_seq_16 = test_2_deletion_SIX_mod(16)"
   ]
  },
  {
   "cell_type": "code",
   "execution_count": null,
   "id": "4b87cc66-9606-488a-9b33-307335ff9654",
   "metadata": {},
   "outputs": [],
   "source": [
    "method6_mod_L_17, method6_mod_seq_17 = test_2_deletion_SIX_mod(17)"
   ]
  },
  {
   "cell_type": "code",
   "execution_count": null,
   "id": "17a19adc-794e-4560-9070-f344e8ea143b",
   "metadata": {},
   "outputs": [],
   "source": [
    "method6_mod_L_18, method6_mod_seq_18 = test_2_deletion_SIX_mod(18)"
   ]
  },
  {
   "cell_type": "code",
   "execution_count": null,
   "id": "88ead43a-2dfe-4b6e-a941-5a0e1c43db8a",
   "metadata": {},
   "outputs": [],
   "source": []
  }
 ],
 "metadata": {
  "kernelspec": {
   "display_name": "Python 3 (ipykernel)",
   "language": "python",
   "name": "python3"
  },
  "language_info": {
   "codemirror_mode": {
    "name": "ipython",
    "version": 3
   },
   "file_extension": ".py",
   "mimetype": "text/x-python",
   "name": "python",
   "nbconvert_exporter": "python",
   "pygments_lexer": "ipython3",
   "version": "3.11.9"
  }
 },
 "nbformat": 4,
 "nbformat_minor": 5
}
