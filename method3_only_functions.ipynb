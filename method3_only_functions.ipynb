{
 "cells": [
  {
   "cell_type": "markdown",
   "id": "6ab438f0-d5e9-47a5-8d80-e6fa0621c7bb",
   "metadata": {},
   "source": [
    "# Basic Function"
   ]
  },
  {
   "cell_type": "code",
   "execution_count": null,
   "id": "a168602d-f6e1-4df4-8d29-3b00f382489c",
   "metadata": {},
   "outputs": [],
   "source": [
    "from math import comb\n",
    "from itertools import combinations, product\n",
    "import pandas as pd\n",
    "import time\n",
    "import sympy\n"
   ]
  },
  {
   "cell_type": "code",
   "execution_count": null,
   "id": "c1618bc2-c85c-4759-9dc5-dd72e55bcefc",
   "metadata": {},
   "outputs": [],
   "source": [
    "# calculating the run list of (0)strx(1)\n",
    "def runstring(strx):\n",
    "    x = \"0\"+strx+\"1\"\n",
    "    r_list = [0]\n",
    "    rank = 0\n",
    "    for i in range(1, len(x)):\n",
    "        if x[i] != x[i-1]:\n",
    "            rank += 1\n",
    "        r_list.append(rank)\n",
    "    return r_list\n",
    "\n",
    "# f1r function\n",
    "def f1rx(strx):\n",
    "    return sum(runstring(strx))\n",
    "\n",
    "# f2r function\n",
    "def f2rx(strx):\n",
    "    rstring = runstring(strx)\n",
    "    tot = 0\n",
    "    for i in rstring:\n",
    "        tot += comb(i,2)\n",
    "    return tot\n",
    "\n",
    "# Calculate number of new runs of x, a 2-insertion superstring on y\n",
    "def count_new_runs_x_y(x, y):\n",
    "    r_x = runstring(x)\n",
    "    r_y = runstring(y)\n",
    "    return r_x[-1] - r_y[-1]\n",
    "\n",
    "# function to find prime p (n+2, 2n]\n",
    "def find_prime(n):\n",
    "    for p in sympy.primerange(n + 3, 2 * n):\n",
    "        return p\n",
    "    return None"
   ]
  },
  {
   "cell_type": "code",
   "execution_count": null,
   "id": "8f7a7110-3616-4336-888a-15913b24e04d",
   "metadata": {},
   "outputs": [],
   "source": [
    "# testing:\n",
    "\n",
    "s = \"001000111010\"\n",
    "print(f1(s), f2(s))\n",
    "# f1 = 3+7+8+9+11 = 38\n",
    "# f2 = (3 c 2)+(7 c 2)+(8 c 2)+(9 c 2)+(11 c 2) = 143"
   ]
  },
  {
   "cell_type": "code",
   "execution_count": null,
   "id": "2e4f3de6-c743-4183-ad6c-12958c75fcbd",
   "metadata": {},
   "outputs": [],
   "source": [
    "# Given n, create a list of y's of all the strings of length n-2\n",
    "\n",
    "#  Input: n-2 value\n",
    "# Output: a list of all length n-2 strings\n",
    "def generate_binary_strings(n_minus_2):\n",
    "    return [''.join(seq) for seq in product('01', repeat=n_minus_2)]"
   ]
  },
  {
   "cell_type": "code",
   "execution_count": null,
   "id": "06a51306-4039-4580-8ef5-0421d6968205",
   "metadata": {},
   "outputs": [],
   "source": [
    "# Insert Characters to Form Length n strings\n",
    "\n",
    "#  Input: string y\n",
    "# Output: list of all possible 2 insertion on y\n",
    "def generate_2_insertions(y, char='01'):\n",
    "    n = len(y) + 2\n",
    "    inserted_strings = set()  # Use a set to avoid duplicates\n",
    "    \n",
    "    for i in range(n):\n",
    "        for j in range(i + 1, n):\n",
    "            for c1 in char:\n",
    "                for c2 in char:\n",
    "                    inserted_str = y[:i] + c1 + y[i:j-1] + c2 + y[j-1:]\n",
    "                    inserted_strings.add(inserted_str)\n",
    "                    \n",
    "    return list(inserted_strings)"
   ]
  },
  {
   "cell_type": "code",
   "execution_count": null,
   "id": "58275811-7f56-487d-997e-cdf0cceac284",
   "metadata": {},
   "outputs": [],
   "source": [
    "# check if anything new duplicates created."
   ]
  },
  {
   "cell_type": "markdown",
   "id": "8d3cfe31-cf32-4fe5-b948-698ab96e1fe6",
   "metadata": {},
   "source": [
    "# Method 3: Using (f1r mod p, f2r mod p, #0, #1, #01, #10)"
   ]
  },
  {
   "cell_type": "code",
   "execution_count": null,
   "id": "614d968b-f9f5-4122-80d8-4ecd8f8e6ae5",
   "metadata": {},
   "outputs": [],
   "source": [
    "import pandas as pd\n",
    "import time\n",
    "import sympy\n",
    "\n",
    "def find_prime_one_half_n(n):\n",
    "    for p in sympy.primerange(int(1.5 * n + 1), 2 * n):\n",
    "        return p\n",
    "    return None\n",
    "\n",
    "def test_2_deletion_f1f2modp_num0_1_01_10_THREE(n):\n",
    "    # Find the prime p such that 1.5n < p < 2n\n",
    "    p = find_prime_one_half_n(n)\n",
    "    if p is None:\n",
    "        raise ValueError(\"No prime found in the range (1.5n, 2n).\")\n",
    "    \n",
    "    start_time = time.time()  # Start the timer\n",
    "    \n",
    "    # Generate all possible binary strings of length n-2\n",
    "    y_s = generate_binary_strings(n - 2)\n",
    "    max_consecutive_duplicates_global = 0\n",
    "    sequence_with_max_duplicates = []  # To store the sequences of consecutive terms with maximum duplicates\n",
    "\n",
    "    # For each y in y_s, generate all possible x' of length n by 2 insertions\n",
    "    for y in y_s:\n",
    "        x_primes = generate_2_insertions(y)\n",
    "        \n",
    "        results = []\n",
    "        for x_prime in x_primes:\n",
    "            f1r_value = f1rx(x_prime) % p  # Calculate f1r mod p\n",
    "            f2r_value = f2rx(x_prime) % p  # Calculate f2r mod p\n",
    "            new_runs = count_new_runs_x_y(x_prime, y) % p  # Calculate new_runs mod p\n",
    "\n",
    "            # Counting number of 0, 1, 01, 10\n",
    "            num_0_val = x_prime.count(\"0\")\n",
    "            num_1_val = x_prime.count(\"1\")\n",
    "            num_01_val = x_prime.count(\"01\")\n",
    "            num_10_val = x_prime.count(\"10\")\n",
    "            \n",
    "            results.append({\n",
    "                'y': y,\n",
    "                'x_prime': x_prime,\n",
    "                'f1r': f1r_value,\n",
    "                'f2r': f2r_value,\n",
    "                'new_runs': new_runs,\n",
    "                'num_0': num_0_val,\n",
    "                'num_1': num_1_val,\n",
    "                'num_01': num_01_val,\n",
    "                'num_10': num_10_val\n",
    "            })\n",
    "        \n",
    "        # Create DataFrame for the current y's results\n",
    "        df_y = pd.DataFrame(results)\n",
    "        \n",
    "        # Sort the DataFrame by the tuple (f1r mod p, f2r mod p, num_0, num_1, num_01, num_10, new_runs)\n",
    "        df_y_sorted = df_y.sort_values(\n",
    "            by=['f1r', 'f2r', 'num_0', 'num_1', 'num_01', 'num_10', 'new_runs'],\n",
    "            ascending=[True, True, True, True, True, True, True]\n",
    "        )\n",
    "        \n",
    "        # Check for consecutive duplicates and track sequences with max duplicates\n",
    "        current_count = 1\n",
    "        current_consecutive_terms = [df_y_sorted.iloc[0]]  # Initialize with the first term\n",
    "        \n",
    "        for i in range(1, len(df_y_sorted)):\n",
    "            if (\n",
    "                df_y_sorted.iloc[i]['f1r'] == df_y_sorted.iloc[i-1]['f1r'] and\n",
    "                df_y_sorted.iloc[i]['f2r'] == df_y_sorted.iloc[i-1]['f2r'] and\n",
    "                df_y_sorted.iloc[i]['new_runs'] == df_y_sorted.iloc[i-1]['new_runs'] and\n",
    "                df_y_sorted.iloc[i]['num_0'] == df_y_sorted.iloc[i-1]['num_0'] and\n",
    "                df_y_sorted.iloc[i]['num_1'] == df_y_sorted.iloc[i-1]['num_1'] and\n",
    "                df_y_sorted.iloc[i]['num_01'] == df_y_sorted.iloc[i-1]['num_01'] and\n",
    "                df_y_sorted.iloc[i]['num_10'] == df_y_sorted.iloc[i-1]['num_10']\n",
    "            ):\n",
    "                current_count += 1\n",
    "                current_consecutive_terms.append(df_y_sorted.iloc[i])\n",
    "            else:\n",
    "                if current_count > max_consecutive_duplicates_global:\n",
    "                    max_consecutive_duplicates_global = current_count\n",
    "                    sequence_with_max_duplicates = [\n",
    "                        [\n",
    "                            current_consecutive_terms[0]['y'],\n",
    "                            [term['x_prime'] for term in current_consecutive_terms],\n",
    "                            current_consecutive_terms[0]['f1r'],\n",
    "                            current_consecutive_terms[0]['f2r'],\n",
    "                            current_consecutive_terms[0]['num_0'],\n",
    "                            current_consecutive_terms[0]['num_1'],\n",
    "                            current_consecutive_terms[0]['num_01'],\n",
    "                            current_consecutive_terms[0]['num_10'],\n",
    "                            current_consecutive_terms[0]['new_runs']\n",
    "                        ]\n",
    "                    ]\n",
    "                elif current_count == max_consecutive_duplicates_global:\n",
    "                    sequence_with_max_duplicates.append(\n",
    "                        [\n",
    "                            current_consecutive_terms[0]['y'],\n",
    "                            [term['x_prime'] for term in current_consecutive_terms],\n",
    "                            current_consecutive_terms[0]['f1r'],\n",
    "                            current_consecutive_terms[0]['f2r'],\n",
    "                            current_consecutive_terms[0]['num_0'],\n",
    "                            current_consecutive_terms[0]['num_1'],\n",
    "                            current_consecutive_terms[0]['num_01'],\n",
    "                            current_consecutive_terms[0]['num_10'],\n",
    "                            current_consecutive_terms[0]['new_runs']\n",
    "                        ]\n",
    "                    )\n",
    "                # Reset for the next sequence\n",
    "                current_count = 1\n",
    "                current_consecutive_terms = [df_y_sorted.iloc[i]]\n",
    "        \n",
    "        # Final check after loop\n",
    "        if current_count > max_consecutive_duplicates_global:\n",
    "            max_consecutive_duplicates_global = current_count\n",
    "            sequence_with_max_duplicates = [\n",
    "                [\n",
    "                    current_consecutive_terms[0]['y'],\n",
    "                    [term['x_prime'] for term in current_consecutive_terms],\n",
    "                    current_consecutive_terms[0]['f1r'],\n",
    "                    current_consecutive_terms[0]['f2r'],\n",
    "                    current_consecutive_terms[0]['num_0'],\n",
    "                    current_consecutive_terms[0]['num_1'],\n",
    "                    current_consecutive_terms[0]['num_01'],\n",
    "                    current_consecutive_terms[0]['num_10'],\n",
    "                    current_consecutive_terms[0]['new_runs']\n",
    "                ]\n",
    "            ]\n",
    "        elif current_count == max_consecutive_duplicates_global:\n",
    "            sequence_with_max_duplicates.append(\n",
    "                [\n",
    "                    current_consecutive_terms[0]['y'],\n",
    "                    [term['x_prime'] for term in current_consecutive_terms],\n",
    "                    current_consecutive_terms[0]['f1r'],\n",
    "                    current_consecutive_terms[0]['f2r'],\n",
    "                    current_consecutive_terms[0]['num_0'],\n",
    "                    current_consecutive_terms[0]['num_1'],\n",
    "                    current_consecutive_terms[0]['num_01'],\n",
    "                    current_consecutive_terms[0]['num_10'],\n",
    "                    current_consecutive_terms[0]['new_runs']\n",
    "                ]\n",
    "            )\n",
    "    \n",
    "    end_time = time.time()  # End the timer\n",
    "    runtime = end_time - start_time  # Calculate the runtime\n",
    "    print(f\"Time: {runtime:.2f} seconds\")\n",
    "\n",
    "    print(f\"For n={n}, Maximum consecutive duplicates among all y's: {max_consecutive_duplicates_global}\\n\")\n",
    "    for seq in sequence_with_max_duplicates:\n",
    "        print(f\"y = {seq[0]},  2-Insertion: {seq[1]},  f1r mod {p} = {seq[2]}, f2r mod {p} = {seq[3]}, NewRuns = {seq[8]}, #0 = {seq[4]}, #1 = {seq[5]}, #01 = {seq[6]}, #10 = {seq[7]}, \")\n",
    "        \n",
    "    # Return the maximum number of consecutive duplicates and the sequences that achieve this max\n",
    "    return max_consecutive_duplicates_global, sequence_with_max_duplicates\n"
   ]
  },
  {
   "cell_type": "markdown",
   "id": "268f91fe-1bc0-4c64-9490-a0ef60f14eeb",
   "metadata": {},
   "source": [
    "# result"
   ]
  },
  {
   "cell_type": "code",
   "execution_count": null,
   "id": "37ca3dbe-9880-46a4-b1a0-ca4ec831786e",
   "metadata": {
    "scrolled": true
   },
   "outputs": [],
   "source": [
    "THREE_L_10, THREE_seq_10 = test_2_deletion_f1f2modp_num0_1_01_10_THREE(10)"
   ]
  },
  {
   "cell_type": "code",
   "execution_count": null,
   "id": "e2430945-3bf7-463c-b32d-28874e063027",
   "metadata": {
    "scrolled": true
   },
   "outputs": [],
   "source": [
    "THREE_L_11, THREE_seq_11 = test_2_deletion_f1f2modp_num0_1_01_10_THREE(11)"
   ]
  },
  {
   "cell_type": "code",
   "execution_count": null,
   "id": "64e0471c-fbed-40e5-ace1-a76943d19c67",
   "metadata": {
    "scrolled": true
   },
   "outputs": [],
   "source": [
    "THREE_L_12, THREE_seq_12 = test_2_deletion_f1f2modp_num0_1_01_10_THREE(12)"
   ]
  },
  {
   "cell_type": "code",
   "execution_count": null,
   "id": "2c397c34-3c49-4daa-b3ff-5c84feebf8d4",
   "metadata": {
    "scrolled": true
   },
   "outputs": [],
   "source": [
    "THREE_L_13, THREE_seq_13 = test_2_deletion_f1f2modp_num0_1_01_10_THREE(13)"
   ]
  },
  {
   "cell_type": "code",
   "execution_count": null,
   "id": "e06acea0-814b-47d2-9728-14900dab011f",
   "metadata": {
    "scrolled": true
   },
   "outputs": [],
   "source": [
    "THREE_L_14, THREE_seq_14 = test_2_deletion_f1f2modp_num0_1_01_10_THREE(14)"
   ]
  },
  {
   "cell_type": "code",
   "execution_count": null,
   "id": "ea2d330a-e87f-4c18-aa36-7e98ed9e2c1c",
   "metadata": {
    "scrolled": true
   },
   "outputs": [],
   "source": [
    "THREE_L_15, THREE_seq_15 = test_2_deletion_f1f2modp_num0_1_01_10_THREE(15)"
   ]
  },
  {
   "cell_type": "code",
   "execution_count": null,
   "id": "09ae58c1-cf71-48d1-bd4f-af5b545d5fc2",
   "metadata": {
    "scrolled": true
   },
   "outputs": [],
   "source": [
    "THREE_L_16, THREE_seq_16 = test_2_deletion_f1f2modp_num0_1_01_10_THREE(16)"
   ]
  },
  {
   "cell_type": "code",
   "execution_count": null,
   "id": "e4ddbb70-59fe-494e-b714-3de48fa4ac7d",
   "metadata": {
    "scrolled": true
   },
   "outputs": [],
   "source": [
    "THREE_L_17, THREE_seq_17 = test_2_deletion_f1f2modp_num0_1_01_10_THREE(17)"
   ]
  },
  {
   "cell_type": "code",
   "execution_count": null,
   "id": "8a812be8-af20-4d58-84dc-b460396a784e",
   "metadata": {
    "scrolled": true
   },
   "outputs": [],
   "source": [
    "THREE_L_18, THREE_seq_18 = test_2_deletion_f1f2modp_num0_1_01_10_THREE(18)"
   ]
  },
  {
   "cell_type": "code",
   "execution_count": null,
   "id": "ac38e4f6-1a28-4bee-b9ef-e8829005efb1",
   "metadata": {
    "scrolled": true
   },
   "outputs": [],
   "source": [
    "THREE_L_19, THREE_seq_19 = test_2_deletion_f1f2modp_num0_1_01_10_THREE(19)"
   ]
  },
  {
   "cell_type": "code",
   "execution_count": null,
   "id": "234a6fd2-4832-4134-a9c8-10c836bbd869",
   "metadata": {
    "scrolled": true
   },
   "outputs": [],
   "source": [
    "THREE_L_20, THREE_seq_20 = test_2_deletion_f1f2modp_num0_1_01_10_THREE(20)"
   ]
  },
  {
   "cell_type": "code",
   "execution_count": null,
   "id": "41b65617-b06a-4b84-b092-abdd9a11a297",
   "metadata": {},
   "outputs": [],
   "source": [
    "# check the length of the list\n",
    "# new collision\n",
    "\n",
    "# find the new pair.\n"
   ]
  },
  {
   "cell_type": "markdown",
   "id": "bfe25680-801c-4fc6-ae07-00938ea33c36",
   "metadata": {},
   "source": [
    "# Finding new duplicates"
   ]
  },
  {
   "cell_type": "code",
   "execution_count": null,
   "id": "11730a7b-9cd9-4e7f-bdf5-9cbc7dc4fac3",
   "metadata": {},
   "outputs": [],
   "source": [
    "# this function sort based on (f1r, f2r, #newruns, #0, #1, #01, #10), without mod p\n",
    "\n",
    "def test_2_deletion_f1f2_num0_1_01_10_THREE(n):\n",
    "\n",
    "    start_time = time.time()  # Start the timer\n",
    "    \n",
    "    # Generate all possible binary strings of length n-2\n",
    "    y_s = generate_binary_strings(n - 2)\n",
    "    max_consecutive_duplicates_global = 0\n",
    "    sequence_with_max_duplicates = []  # To store the sequences of consecutive terms with maximum duplicates\n",
    "\n",
    "    # For each y in y_s, generate all possible x' of length n by 2 insertions\n",
    "    for y in y_s:\n",
    "        x_primes = generate_2_insertions(y)\n",
    "        \n",
    "        results = []\n",
    "        for x_prime in x_primes:\n",
    "            f1r_value = f1rx(x_prime)  # Calculate f1r mod p\n",
    "            f2r_value = f2rx(x_prime)  # Calculate f2r mod p\n",
    "            new_runs = count_new_runs_x_y(x_prime, y)  # Calculate new_runs mod p\n",
    "\n",
    "            # Counting number of 0, 1, 01, 10\n",
    "            num_0_val = x_prime.count(\"0\")\n",
    "            num_1_val = x_prime.count(\"1\")\n",
    "            num_01_val = x_prime.count(\"01\")\n",
    "            num_10_val = x_prime.count(\"10\")\n",
    "            \n",
    "            results.append({\n",
    "                'y': y,\n",
    "                'x_prime': x_prime,\n",
    "                'f1r': f1r_value,\n",
    "                'f2r': f2r_value,\n",
    "                'new_runs': new_runs,\n",
    "                'num_0': num_0_val,\n",
    "                'num_1': num_1_val,\n",
    "                'num_01': num_01_val,\n",
    "                'num_10': num_10_val\n",
    "            })\n",
    "        \n",
    "        # Create DataFrame for the current y's results\n",
    "        df_y = pd.DataFrame(results)\n",
    "        \n",
    "        # Sort the DataFrame by the tuple (f1r mod p, f2r mod p, num_0, num_1, num_01, num_10, new_runs)\n",
    "        df_y_sorted = df_y.sort_values(\n",
    "            by=['f1r', 'f2r', 'num_0', 'num_1', 'num_01', 'num_10', 'new_runs'],\n",
    "            ascending=[True, True, True, True, True, True, True]\n",
    "        )\n",
    "        \n",
    "        # Check for consecutive duplicates and track sequences with max duplicates\n",
    "        current_count = 1\n",
    "        current_consecutive_terms = [df_y_sorted.iloc[0]]  # Initialize with the first term\n",
    "        \n",
    "        for i in range(1, len(df_y_sorted)):\n",
    "            if (\n",
    "                df_y_sorted.iloc[i]['f1r'] == df_y_sorted.iloc[i-1]['f1r'] and\n",
    "                df_y_sorted.iloc[i]['f2r'] == df_y_sorted.iloc[i-1]['f2r'] and\n",
    "                df_y_sorted.iloc[i]['new_runs'] == df_y_sorted.iloc[i-1]['new_runs'] and\n",
    "                df_y_sorted.iloc[i]['num_0'] == df_y_sorted.iloc[i-1]['num_0'] and\n",
    "                df_y_sorted.iloc[i]['num_1'] == df_y_sorted.iloc[i-1]['num_1'] and\n",
    "                df_y_sorted.iloc[i]['num_01'] == df_y_sorted.iloc[i-1]['num_01'] and\n",
    "                df_y_sorted.iloc[i]['num_10'] == df_y_sorted.iloc[i-1]['num_10']\n",
    "            ):\n",
    "                current_count += 1\n",
    "                current_consecutive_terms.append(df_y_sorted.iloc[i])\n",
    "            else:\n",
    "                if current_count > max_consecutive_duplicates_global:\n",
    "                    max_consecutive_duplicates_global = current_count\n",
    "                    sequence_with_max_duplicates = [\n",
    "                        [\n",
    "                            current_consecutive_terms[0]['y'],\n",
    "                            [term['x_prime'] for term in current_consecutive_terms],\n",
    "                            current_consecutive_terms[0]['f1r'],\n",
    "                            current_consecutive_terms[0]['f2r'],\n",
    "                            current_consecutive_terms[0]['num_0'],\n",
    "                            current_consecutive_terms[0]['num_1'],\n",
    "                            current_consecutive_terms[0]['num_01'],\n",
    "                            current_consecutive_terms[0]['num_10'],\n",
    "                            current_consecutive_terms[0]['new_runs']\n",
    "                        ]\n",
    "                    ]\n",
    "                elif current_count == max_consecutive_duplicates_global:\n",
    "                    sequence_with_max_duplicates.append(\n",
    "                        [\n",
    "                            current_consecutive_terms[0]['y'],\n",
    "                            [term['x_prime'] for term in current_consecutive_terms],\n",
    "                            current_consecutive_terms[0]['f1r'],\n",
    "                            current_consecutive_terms[0]['f2r'],\n",
    "                            current_consecutive_terms[0]['num_0'],\n",
    "                            current_consecutive_terms[0]['num_1'],\n",
    "                            current_consecutive_terms[0]['num_01'],\n",
    "                            current_consecutive_terms[0]['num_10'],\n",
    "                            current_consecutive_terms[0]['new_runs']\n",
    "                        ]\n",
    "                    )\n",
    "                # Reset for the next sequence\n",
    "                current_count = 1\n",
    "                current_consecutive_terms = [df_y_sorted.iloc[i]]\n",
    "        \n",
    "        # Final check after loop\n",
    "        if current_count > max_consecutive_duplicates_global:\n",
    "            max_consecutive_duplicates_global = current_count\n",
    "            sequence_with_max_duplicates = [\n",
    "                [\n",
    "                    current_consecutive_terms[0]['y'],\n",
    "                    [term['x_prime'] for term in current_consecutive_terms],\n",
    "                    current_consecutive_terms[0]['f1r'],\n",
    "                    current_consecutive_terms[0]['f2r'],\n",
    "                    current_consecutive_terms[0]['num_0'],\n",
    "                    current_consecutive_terms[0]['num_1'],\n",
    "                    current_consecutive_terms[0]['num_01'],\n",
    "                    current_consecutive_terms[0]['num_10'],\n",
    "                    current_consecutive_terms[0]['new_runs']\n",
    "                ]\n",
    "            ]\n",
    "        elif current_count == max_consecutive_duplicates_global:\n",
    "            sequence_with_max_duplicates.append(\n",
    "                [\n",
    "                    current_consecutive_terms[0]['y'],\n",
    "                    [term['x_prime'] for term in current_consecutive_terms],\n",
    "                    current_consecutive_terms[0]['f1r'],\n",
    "                    current_consecutive_terms[0]['f2r'],\n",
    "                    current_consecutive_terms[0]['num_0'],\n",
    "                    current_consecutive_terms[0]['num_1'],\n",
    "                    current_consecutive_terms[0]['num_01'],\n",
    "                    current_consecutive_terms[0]['num_10'],\n",
    "                    current_consecutive_terms[0]['new_runs']\n",
    "                ]\n",
    "            )\n",
    "    \n",
    "    end_time = time.time()  # End the timer\n",
    "    runtime = end_time - start_time  # Calculate the runtime\n",
    "    print(f\"Time: {runtime:.2f} seconds\")\n",
    "\n",
    "    print(f\"For n={n}, Maximum consecutive duplicates among all y's: {max_consecutive_duplicates_global}\\n\")\n",
    "    for seq in sequence_with_max_duplicates:\n",
    "        print(f\"y = {seq[0]},  2-Insertion: {seq[1]},  f1r = {seq[2]}, f2r  = {seq[3]}, NewRuns = {seq[8]}, #0 = {seq[4]}, #1 = {seq[5]}, #01 = {seq[6]}, #10 = {seq[7]}, \")\n",
    "        \n",
    "    # Return the maximum number of consecutive duplicates and the sequences that achieve this max\n",
    "    return max_consecutive_duplicates_global, sequence_with_max_duplicates\n"
   ]
  },
  {
   "cell_type": "code",
   "execution_count": null,
   "id": "ff3eb39a-38a7-41c2-8081-ac3c8e8d7482",
   "metadata": {
    "scrolled": true
   },
   "outputs": [],
   "source": [
    "THREE_2_L_10, THREE_2_seq_10 = test_2_deletion_f1f2_num0_1_01_10_THREE(10)"
   ]
  },
  {
   "cell_type": "code",
   "execution_count": null,
   "id": "dc448d81-7d78-4b3f-8909-c5ad6094c745",
   "metadata": {
    "scrolled": true
   },
   "outputs": [],
   "source": [
    "THREE_2_L_11, THREE_2_seq_11 = test_2_deletion_f1f2_num0_1_01_10_THREE(11)"
   ]
  },
  {
   "cell_type": "code",
   "execution_count": null,
   "id": "928b8700-10a2-4cbe-9ce5-0b419eb20fc9",
   "metadata": {
    "scrolled": true
   },
   "outputs": [],
   "source": [
    "THREE_2_L_12, THREE_2_seq_12 = test_2_deletion_f1f2_num0_1_01_10_THREE(12)"
   ]
  },
  {
   "cell_type": "code",
   "execution_count": null,
   "id": "347f0342-55e7-4476-81e8-2a898e7fc420",
   "metadata": {
    "scrolled": true
   },
   "outputs": [],
   "source": [
    "THREE_2_L_13, THREE_2_seq_13 = test_2_deletion_f1f2_num0_1_01_10_THREE(13)"
   ]
  },
  {
   "cell_type": "code",
   "execution_count": null,
   "id": "6b185ef3-1a16-45ee-8aab-41ca3d8b3348",
   "metadata": {
    "scrolled": true
   },
   "outputs": [],
   "source": [
    "THREE_2_L_14, THREE_2_seq_14 = test_2_deletion_f1f2_num0_1_01_10_THREE(14)"
   ]
  },
  {
   "cell_type": "code",
   "execution_count": null,
   "id": "b6b1ce59-fff3-4ce8-8295-f76350b8a9ae",
   "metadata": {
    "scrolled": true
   },
   "outputs": [],
   "source": [
    "THREE_2_L_15, THREE_2_seq_15 = test_2_deletion_f1f2_num0_1_01_10_THREE(15)"
   ]
  },
  {
   "cell_type": "code",
   "execution_count": null,
   "id": "fdf9105e-3052-4ad5-9331-30724d5c38cc",
   "metadata": {
    "scrolled": true
   },
   "outputs": [],
   "source": [
    "THREE_2_L_16, THREE_2_seq_16 = test_2_deletion_f1f2_num0_1_01_10_THREE(16)"
   ]
  },
  {
   "cell_type": "code",
   "execution_count": null,
   "id": "2213b6d2-67fd-4921-80b0-5407bd255f87",
   "metadata": {
    "scrolled": true
   },
   "outputs": [],
   "source": [
    "THREE_2_L_17, THREE_2_seq_17 = test_2_deletion_f1f2_num0_1_01_10_THREE(17)"
   ]
  },
  {
   "cell_type": "code",
   "execution_count": null,
   "id": "b49bf53d-1928-4d4a-aa3c-a6476e2e5809",
   "metadata": {
    "scrolled": true
   },
   "outputs": [],
   "source": [
    "THREE_2_L_18, THREE_2_seq_18 = test_2_deletion_f1f2_num0_1_01_10_THREE(18)"
   ]
  },
  {
   "cell_type": "code",
   "execution_count": null,
   "id": "35d76b0d-13cd-4f80-a664-900a279b3b41",
   "metadata": {
    "scrolled": true
   },
   "outputs": [],
   "source": [
    "THREE_2_L_19, THREE_2_seq_19 = test_2_deletion_f1f2_num0_1_01_10_THREE(19)"
   ]
  },
  {
   "cell_type": "markdown",
   "id": "d578ef55-a4df-45b7-8279-8994c46445db",
   "metadata": {},
   "source": [
    "# Checking if there's any new duplicates."
   ]
  },
  {
   "cell_type": "code",
   "execution_count": null,
   "id": "1df3a7f3-3c92-4be4-8ef7-e0278b290f1f",
   "metadata": {},
   "outputs": [],
   "source": [
    "# quick check on size difference\n",
    "print(11, len(THREE_2_seq_11), len(THREE_seq_11))\n",
    "print(12, len(THREE_2_seq_12), len(THREE_seq_12))\n",
    "print(13, len(THREE_2_seq_13), len(THREE_seq_13))\n",
    "print(14, len(THREE_2_seq_14), len(THREE_seq_14))\n",
    "print(15, len(THREE_2_seq_15), len(THREE_seq_15))\n",
    "print(16, len(THREE_2_seq_16), len(THREE_seq_16))\n",
    "print(17, len(THREE_2_seq_17), len(THREE_seq_17))\n",
    "print(18, len(THREE_2_seq_18), len(THREE_seq_18)) # give 178 new duplicates/collisions\n",
    "print(19, len(THREE_2_seq_19), len(THREE_seq_19))"
   ]
  },
  {
   "cell_type": "code",
   "execution_count": null,
   "id": "c05d4dec-a64f-49b9-9638-03ae0741544a",
   "metadata": {},
   "outputs": [],
   "source": [
    "# finding new duplicates when using mod p\n",
    "def finding_new_dups(n, seq, seq_mod_p):\n",
    "    start_time = time.time()  # Start the timer\n",
    "    \n",
    "    # Convert seq to a set of tuples for faster lookup\n",
    "    seq_set = set((item[0], tuple(item[1])) for item in seq)\n",
    "    \n",
    "    new_dups = []\n",
    "    for item_mod_p in seq_mod_p:\n",
    "        item_mod_p_key = (item_mod_p[0], tuple(item_mod_p[1]))\n",
    "        \n",
    "        if item_mod_p_key not in seq_set:\n",
    "            new_dups.append(item_mod_p)\n",
    "    \n",
    "    end_time = time.time()  # End the timer\n",
    "    runtime = end_time - start_time  # Calculate the runtime\n",
    "    print(f\"\\nFor n={n}: Time: {runtime:.2f} seconds\")\n",
    "    \n",
    "    return new_dups\n"
   ]
  },
  {
   "cell_type": "code",
   "execution_count": null,
   "id": "4b7f5aee-1ba9-4040-882d-a9aceecb7089",
   "metadata": {},
   "outputs": [],
   "source": [
    "# checking\n",
    "\n",
    "seq1 = [['01', ['10', '111']], ['11', ['11', '011']], ['00', ['10', '101']]]\n",
    "seq2 = [['01', ['10', '111']], ['11', ['11', '011']], ['00', ['10', '101']], ['00', ['11', '001']]]\n",
    "\n",
    "# Run the finding_new_dups function\n",
    "new_dups = finding_new_dups(2, seq1, seq2)\n",
    "\n",
    "# Print the results\n",
    "print(\"New duplicates found:\\n\", new_dups)\n"
   ]
  },
  {
   "cell_type": "code",
   "execution_count": null,
   "id": "0966c345-53b8-4487-9de1-f9eae66db4ce",
   "metadata": {},
   "outputs": [],
   "source": [
    "new_dups_10 = finding_new_dups(10, THREE_2_seq_10, THREE_seq_10)\n",
    "new_dups_11 = finding_new_dups(11, THREE_2_seq_11, THREE_seq_11)\n",
    "new_dups_12 = finding_new_dups(12, THREE_2_seq_12, THREE_seq_12)\n",
    "new_dups_13 = finding_new_dups(13, THREE_2_seq_13, THREE_seq_13)\n",
    "new_dups_14 = finding_new_dups(14, THREE_2_seq_14, THREE_seq_14)\n",
    "new_dups_15 = finding_new_dups(15, THREE_2_seq_15, THREE_seq_15)\n",
    "new_dups_16 = finding_new_dups(16, THREE_2_seq_16, THREE_seq_16)\n",
    "new_dups_17 = finding_new_dups(17, THREE_2_seq_17, THREE_seq_17)\n",
    "new_dups_18 = finding_new_dups(18, THREE_2_seq_18, THREE_seq_18)\n",
    "new_dups_19 = finding_new_dups(19, THREE_2_seq_19, THREE_seq_19)\n"
   ]
  },
  {
   "cell_type": "code",
   "execution_count": null,
   "id": "ca624741-d32d-48d2-b5e9-eb3eca6f2eb5",
   "metadata": {
    "scrolled": true
   },
   "outputs": [],
   "source": [
    "print(\"New duplicates found:\\n\", new_dups_10)\n",
    "print(\"New duplicates found:\\n\", new_dups_11)\n",
    "print(\"New duplicates found:\\n\", new_dups_12)\n",
    "print(\"New duplicates found:\\n\", new_dups_13)\n",
    "print(\"New duplicates found:\\n\", new_dups_14)\n",
    "print(\"New duplicates found:\\n\", new_dups_15)\n",
    "print(\"New duplicates found:\\n\", new_dups_16)\n",
    "print(\"New duplicates found:\\n\", new_dups_17)\n",
    "print(\"New duplicates found:\\n\", new_dups_18)\n",
    "print(\"New duplicates found:\\n\", new_dups_19)"
   ]
  },
  {
   "cell_type": "code",
   "execution_count": null,
   "id": "d56bb400-e7dd-415d-9a63-37f2be7143c0",
   "metadata": {},
   "outputs": [],
   "source": [
    "def check_new_dup(aaa):\n",
    "\n",
    "#aaa = ['000011110', ['00221110100', '00000101110']]\n",
    "    y = aaa[0]\n",
    "    x1 = aaa[1][0]\n",
    "    x2 = aaa[1][1]\n",
    "    p = find_prime_one_half_n(len(x1))\n",
    "\n",
    "    if f1rx(x1) != f1rx(x2) or f2rx(x1) != f2rx(x2):\n",
    "        print(f'new duplicate on {item}')\n",
    "        print(f1rx(x1), f1rx(x2), f2rx(x1), f2rx(x2))\n",
    "        print(f1rx(x1)%p, f1rx(x2)%p, f2rx(x1)%p, f2rx(x2)%p)\n",
    "    else: print('this is not a new duplicate')"
   ]
  },
  {
   "cell_type": "code",
   "execution_count": null,
   "id": "fdc32ff7-fdd0-4e8e-8c5b-9d65265537a5",
   "metadata": {
    "scrolled": true
   },
   "outputs": [],
   "source": [
    "print(len(new_dups_18))\n",
    "print(len(THREE_seq_18) -  len(THREE_2_seq_18))\n",
    "for item in new_dups_18:\n",
    "    check_new_dup(item)"
   ]
  },
  {
   "cell_type": "code",
   "execution_count": null,
   "id": "788b508a-e508-4e0e-bfac-805eea29c882",
   "metadata": {},
   "outputs": [],
   "source": [
    "print(len(new_dups_19))\n",
    "print(len(THREE_seq_19) -  len(THREE_2_seq_19))\n",
    "for item in new_dups_19:\n",
    "    check_new_dup(item)"
   ]
  },
  {
   "cell_type": "markdown",
   "id": "b66ffff4-d9d7-4c1e-b45a-db57b7bf7957",
   "metadata": {},
   "source": [
    "# Check the randomness in these new collisions"
   ]
  },
  {
   "cell_type": "code",
   "execution_count": null,
   "id": "d446e0fa-f1cd-49ef-8b1d-2eb4286db360",
   "metadata": {},
   "outputs": [],
   "source": [
    "import math\n",
    "\n",
    "def is_non_random(s, threshold):\n",
    "    # Check for consecutive sequences of '0' or '1'\n",
    "    if '0' * threshold in s or '1' * threshold in s:\n",
    "        return True\n",
    "    \n",
    "    # Check for consecutive sequences of '01' or '10'\n",
    "    if '01' * threshold in s or '10' * threshold in s:\n",
    "        return True\n",
    "    \n",
    "    return False\n",
    "\n",
    "def check_random(seqs):\n",
    "    n = len(seqs[0][1][0])\n",
    "    threshold = math.ceil(math.log(n))  # Moved outside of the loop for efficiency\n",
    "    num = [] # 1 for random , 0 for not random, hope to get all not random\n",
    "    for seq in seqs:\n",
    "        y = seq[0]\n",
    "        x1 = seq[1][0]\n",
    "        x2 = seq[1][1]\n",
    "    \n",
    "        # Check if x1 or x2 are non-random\n",
    "        if not (is_non_random(x1, threshold) or is_non_random(x2, threshold)):\n",
    "            print(f'random for {seq}')\n",
    "            num.append(1)\n",
    "        else:\n",
    "            print('not random')\n",
    "            num.append(0)\n",
    "    return sum(num)"
   ]
  },
  {
   "cell_type": "code",
   "execution_count": null,
   "id": "d8bf318a-67db-4488-967c-a697c740d49b",
   "metadata": {},
   "outputs": [],
   "source": [
    "check_random(new_dups_18)"
   ]
  },
  {
   "cell_type": "code",
   "execution_count": null,
   "id": "3e2071f3-3761-4a1c-bcf8-a4bd69a59290",
   "metadata": {},
   "outputs": [],
   "source": [
    "check_random(new_dups_19)"
   ]
  },
  {
   "cell_type": "markdown",
   "id": "a5dff681-2b07-4443-adcf-cc5f373b023f",
   "metadata": {},
   "source": [
    "At least for now, we see all new collisions are considered as unusual cases, so we argue that we still guarantee a list size 2. Will run through more test."
   ]
  },
  {
   "cell_type": "code",
   "execution_count": null,
   "id": "349461bd-d381-4b4e-a86f-6fa7db2b00f4",
   "metadata": {},
   "outputs": [],
   "source": []
  },
  {
   "cell_type": "code",
   "execution_count": null,
   "id": "f66b89e9-8662-4f64-adc0-266e03785ce5",
   "metadata": {},
   "outputs": [],
   "source": []
  },
  {
   "cell_type": "code",
   "execution_count": null,
   "id": "be4bb4a4-363a-4be0-83a5-9d1d4f13fe92",
   "metadata": {},
   "outputs": [],
   "source": []
  },
  {
   "cell_type": "code",
   "execution_count": null,
   "id": "bd1e063a-9c30-47e1-bbf4-868fc1236dc3",
   "metadata": {},
   "outputs": [],
   "source": []
  },
  {
   "cell_type": "code",
   "execution_count": null,
   "id": "db6277fb-aac0-4d16-bce0-9f08863626e2",
   "metadata": {},
   "outputs": [],
   "source": []
  },
  {
   "cell_type": "code",
   "execution_count": null,
   "id": "66d87221-9cae-4a0e-bbc2-020b709a9e99",
   "metadata": {},
   "outputs": [],
   "source": []
  },
  {
   "cell_type": "code",
   "execution_count": null,
   "id": "cf5bce6e-a45f-4e31-a014-924a15b933a5",
   "metadata": {},
   "outputs": [],
   "source": []
  }
 ],
 "metadata": {
  "kernelspec": {
   "display_name": "Python 3 (ipykernel)",
   "language": "python",
   "name": "python3"
  },
  "language_info": {
   "codemirror_mode": {
    "name": "ipython",
    "version": 3
   },
   "file_extension": ".py",
   "mimetype": "text/x-python",
   "name": "python",
   "nbconvert_exporter": "python",
   "pygments_lexer": "ipython3",
   "version": "3.11.9"
  }
 },
 "nbformat": 4,
 "nbformat_minor": 5
}
