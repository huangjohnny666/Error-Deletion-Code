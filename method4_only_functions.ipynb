{
 "cells": [
  {
   "cell_type": "markdown",
   "id": "6babb7f9-8169-4899-874f-90fbd6fb9f02",
   "metadata": {},
   "source": [
    "# Basic functions"
   ]
  },
  {
   "cell_type": "code",
   "execution_count": null,
   "id": "2639431d-dae3-4328-869e-c9eb2684d8db",
   "metadata": {},
   "outputs": [],
   "source": [
    "from math import comb\n",
    "from itertools import combinations, product\n",
    "import pandas as pd\n",
    "import time\n",
    "import sympy\n"
   ]
  },
  {
   "cell_type": "code",
   "execution_count": null,
   "id": "5ef2f4fb-42c5-4157-b69b-619b586fa3f0",
   "metadata": {},
   "outputs": [],
   "source": [
    "\n",
    "\n",
    "# calculating the run list of (0)strx(1)\n",
    "def runstring(strx):\n",
    "    x = \"0\"+strx+\"1\"\n",
    "    r_list = [0]\n",
    "    rank = 0\n",
    "    for i in range(1, len(x)):\n",
    "        if x[i] != x[i-1]:\n",
    "            rank += 1\n",
    "        r_list.append(rank)\n",
    "    return r_list\n",
    "\n",
    "def f1(strx):\n",
    "    sum_f1 = 0\n",
    "    for i in range(len(strx)):\n",
    "        if strx[i] == \"1\":\n",
    "            sum_f1 += (i + 1)\n",
    "    return sum_f1\n",
    "\n",
    "def f2(strx):\n",
    "    sum_f2 = 0\n",
    "    for i in range(len(strx)):\n",
    "        if strx[i] == \"1\":\n",
    "            sum_f2 += comb(i + 1, 2)\n",
    "    return sum_f2\n",
    "\n",
    "# Calculate number of new runs of x, a 2-insertion superstring on y\n",
    "def count_new_runs_x_y(x, y):\n",
    "    r_x = runstring(x)\n",
    "    r_y = runstring(y)\n",
    "    return r_x[-1] - r_y[-1]\n"
   ]
  },
  {
   "cell_type": "code",
   "execution_count": null,
   "id": "8a830831-bb00-484f-8f40-0f41bdff354f",
   "metadata": {},
   "outputs": [],
   "source": [
    "# Given n, create a list of y's of all the strings of length n-2\n",
    "\n",
    "#  Input: n-2 value\n",
    "# Output: a list of all length n-2 strings\n",
    "def generate_binary_strings(n_minus_2):\n",
    "    return [''.join(seq) for seq in product('01', repeat=n_minus_2)]"
   ]
  },
  {
   "cell_type": "code",
   "execution_count": null,
   "id": "97e24e7d-3cc3-4ad8-a445-a3f727ef7dfe",
   "metadata": {},
   "outputs": [],
   "source": [
    "# Insert Characters to Form Length n strings\n",
    "\n",
    "#  Input: string y\n",
    "# Output: list of all possible 2 insertion on y\n",
    "def generate_2_insertions(y, char='01'):\n",
    "    n = len(y) + 2\n",
    "    inserted_strings = set()  # Use a set to avoid duplicates\n",
    "    \n",
    "    for i in range(n):\n",
    "        for j in range(i + 1, n):\n",
    "            for c1 in char:\n",
    "                for c2 in char:\n",
    "                    inserted_str = y[:i] + c1 + y[i:j-1] + c2 + y[j-1:]\n",
    "                    inserted_strings.add(inserted_str)\n",
    "                    \n",
    "    return list(inserted_strings)"
   ]
  },
  {
   "cell_type": "markdown",
   "id": "a169085c-2fb7-47a1-b630-34f6b33738fe",
   "metadata": {},
   "source": [
    "# Method 4: Using (f1, f2, #newruns, #0, #1, #01, #10)"
   ]
  },
  {
   "cell_type": "code",
   "execution_count": null,
   "id": "f7dbe423-8903-4686-b8fb-df77c56d1ee4",
   "metadata": {},
   "outputs": [],
   "source": [
    "def test_2_deletion_f1f2_num0_1_01_10_FOUR(n):\n",
    "    start_time = time.time()  # Start the timer\n",
    "    \n",
    "    # Generate all possible binary strings of length n-2\n",
    "    y_s = generate_binary_strings(n - 2)\n",
    "    max_consecutive_duplicates_global = 0\n",
    "    sequence_with_max_duplicates = []  # To store the sequences of consecutive terms with maximum duplicates\n",
    "\n",
    "    # For each y in y_s, generate all possible x' of length n by 2 insertions\n",
    "    for y in y_s:\n",
    "        x_primes = generate_2_insertions(y)\n",
    "        \n",
    "        results = []\n",
    "        for x_prime in x_primes:\n",
    "            f1_value = f1(x_prime)  # Calculate f1\n",
    "            f2_value = f2(x_prime)  # Calculate f2\n",
    "            new_runs = count_new_runs_x_y(x_prime, y)  # Calculate number of new runs\n",
    "\n",
    "            # Counting number of 0, 1, 01, 10\n",
    "            num_0_val = x_prime.count(\"0\")\n",
    "            num_1_val = x_prime.count(\"1\")\n",
    "            num_01_val = x_prime.count(\"01\")\n",
    "            num_10_val = x_prime.count(\"10\")\n",
    "            \n",
    "            results.append({\n",
    "                'y': y,\n",
    "                'x_prime': x_prime,\n",
    "                'f1': f1_value,\n",
    "                'f2': f2_value,\n",
    "                'new_runs': new_runs,\n",
    "                'num_0': num_0_val,\n",
    "                'num_1': num_1_val,\n",
    "                'num_01': num_01_val,\n",
    "                'num_10': num_10_val\n",
    "            })\n",
    "        \n",
    "        # Create DataFrame for the current y's results\n",
    "        df_y = pd.DataFrame(results)\n",
    "        \n",
    "        # Sort the DataFrame by the tuple (f1, f2, num_0, num_1, num_01, num_10, new_runs)\n",
    "        df_y_sorted = df_y.sort_values(\n",
    "            by=['f1', 'f2', 'num_0', 'num_1', 'num_01', 'num_10', 'new_runs'],\n",
    "            ascending=[True, True, True, True, True, True, True]\n",
    "        )\n",
    "        \n",
    "        # Check for consecutive duplicates and track sequences with max duplicates\n",
    "        current_count = 1\n",
    "        current_consecutive_terms = [df_y_sorted.iloc[0]]  # Initialize with the first term\n",
    "        \n",
    "        for i in range(1, len(df_y_sorted)):\n",
    "            if (\n",
    "                df_y_sorted.iloc[i]['f1'] == df_y_sorted.iloc[i-1]['f1'] and\n",
    "                df_y_sorted.iloc[i]['f2'] == df_y_sorted.iloc[i-1]['f2'] and\n",
    "                df_y_sorted.iloc[i]['new_runs'] == df_y_sorted.iloc[i-1]['new_runs'] and\n",
    "                df_y_sorted.iloc[i]['num_0'] == df_y_sorted.iloc[i-1]['num_0'] and\n",
    "                df_y_sorted.iloc[i]['num_1'] == df_y_sorted.iloc[i-1]['num_1'] and\n",
    "                df_y_sorted.iloc[i]['num_01'] == df_y_sorted.iloc[i-1]['num_01'] and\n",
    "                df_y_sorted.iloc[i]['num_10'] == df_y_sorted.iloc[i-1]['num_10']\n",
    "            ):\n",
    "                current_count += 1\n",
    "                current_consecutive_terms.append(df_y_sorted.iloc[i])\n",
    "            else:\n",
    "                if current_count > max_consecutive_duplicates_global:\n",
    "                    max_consecutive_duplicates_global = current_count\n",
    "                    sequence_with_max_duplicates = [\n",
    "                        [\n",
    "                            current_consecutive_terms[0]['y'],\n",
    "                            [term['x_prime'] for term in current_consecutive_terms],\n",
    "                            current_consecutive_terms[0]['f1'],\n",
    "                            current_consecutive_terms[0]['f2'],\n",
    "                            current_consecutive_terms[0]['num_0'],\n",
    "                            current_consecutive_terms[0]['num_1'],\n",
    "                            current_consecutive_terms[0]['num_01'],\n",
    "                            current_consecutive_terms[0]['num_10'],\n",
    "                            current_consecutive_terms[0]['new_runs']\n",
    "                        ]\n",
    "                    ]\n",
    "                elif current_count == max_consecutive_duplicates_global:\n",
    "                    sequence_with_max_duplicates.append(\n",
    "                        [\n",
    "                            current_consecutive_terms[0]['y'],\n",
    "                            [term['x_prime'] for term in current_consecutive_terms],\n",
    "                            current_consecutive_terms[0]['f1'],\n",
    "                            current_consecutive_terms[0]['f2'],\n",
    "                            current_consecutive_terms[0]['num_0'],\n",
    "                            current_consecutive_terms[0]['num_1'],\n",
    "                            current_consecutive_terms[0]['num_01'],\n",
    "                            current_consecutive_terms[0]['num_10'],\n",
    "                            current_consecutive_terms[0]['new_runs']\n",
    "                        ]\n",
    "                    )\n",
    "                # Reset for the next sequence\n",
    "                current_count = 1\n",
    "                current_consecutive_terms = [df_y_sorted.iloc[i]]\n",
    "        \n",
    "        # Final check after loop\n",
    "        if current_count > max_consecutive_duplicates_global:\n",
    "            max_consecutive_duplicates_global = current_count\n",
    "            sequence_with_max_duplicates = [\n",
    "                [\n",
    "                    current_consecutive_terms[0]['y'],\n",
    "                    [term['x_prime'] for term in current_consecutive_terms],\n",
    "                    current_consecutive_terms[0]['f1'],\n",
    "                    current_consecutive_terms[0]['f2'],\n",
    "                    current_consecutive_terms[0]['num_0'],\n",
    "                    current_consecutive_terms[0]['num_1'],\n",
    "                    current_consecutive_terms[0]['num_01'],\n",
    "                    current_consecutive_terms[0]['num_10'],\n",
    "                    current_consecutive_terms[0]['new_runs']\n",
    "                ]\n",
    "            ]\n",
    "        elif current_count == max_consecutive_duplicates_global:\n",
    "            sequence_with_max_duplicates.append(\n",
    "                [\n",
    "                    current_consecutive_terms[0]['y'],\n",
    "                    [term['x_prime'] for term in current_consecutive_terms],\n",
    "                    current_consecutive_terms[0]['f1'],\n",
    "                    current_consecutive_terms[0]['f2'],\n",
    "                    current_consecutive_terms[0]['num_0'],\n",
    "                    current_consecutive_terms[0]['num_1'],\n",
    "                    current_consecutive_terms[0]['num_01'],\n",
    "                    current_consecutive_terms[0]['num_10'],\n",
    "                    current_consecutive_terms[0]['new_runs']\n",
    "                ]\n",
    "            )\n",
    "    \n",
    "    end_time = time.time()  # End the timer\n",
    "    runtime = end_time - start_time  # Calculate the runtime\n",
    "    print(f\"Time: {runtime:.2f} seconds\")\n",
    "\n",
    "    print(f\"For n={n}, Maximum consecutive duplicates among all y's: {max_consecutive_duplicates_global}\\n\")\n",
    "    for seq in sequence_with_max_duplicates:\n",
    "        print(f\"y = {seq[0]},  2-Insertion: {seq[1]},  f1 = {seq[2]}, f2 = {seq[3]}, NewRuns = {seq[8]}, #0 = {seq[4]}, #1 = {seq[5]}, #01 = {seq[6]}, #10 = {seq[7]}\")\n",
    "        \n",
    "    # Return the maximum number of consecutive duplicates and the sequences that achieve this max\n",
    "    return max_consecutive_duplicates_global, sequence_with_max_duplicates\n"
   ]
  },
  {
   "cell_type": "code",
   "execution_count": null,
   "id": "9725bd53-f1f6-4165-8f7d-3f9012cc6b6d",
   "metadata": {},
   "outputs": [],
   "source": [
    "test_2_deletion_f1f2_num0_1_01_10_FOUR(10)"
   ]
  },
  {
   "cell_type": "code",
   "execution_count": null,
   "id": "a1b0ced0-285a-4647-a340-ad4ebfc63bf1",
   "metadata": {},
   "outputs": [],
   "source": [
    "test_2_deletion_f1f2_num0_1_01_10_FOUR(11)"
   ]
  },
  {
   "cell_type": "code",
   "execution_count": null,
   "id": "67ca85fe-e609-4c5a-8531-81829499b808",
   "metadata": {},
   "outputs": [],
   "source": [
    "test_2_deletion_f1f2_num0_1_01_10_FOUR(12)"
   ]
  },
  {
   "cell_type": "code",
   "execution_count": null,
   "id": "f3f5639c-72e9-4d65-9fb0-98e3bf0b6aaa",
   "metadata": {},
   "outputs": [],
   "source": [
    "test_2_deletion_f1f2_num0_1_01_10_FOUR(13)"
   ]
  },
  {
   "cell_type": "code",
   "execution_count": null,
   "id": "d6a12f9d-9e27-4f7d-9a97-c4035d35497c",
   "metadata": {
    "scrolled": true
   },
   "outputs": [],
   "source": [
    "# start giving list size 3 at n=14\n",
    "test_2_deletion_f1f2_num0_1_01_10_FOUR(14)"
   ]
  },
  {
   "cell_type": "code",
   "execution_count": null,
   "id": "a6688b79-1d00-4079-a894-4b72a6be6b3d",
   "metadata": {},
   "outputs": [],
   "source": [
    "test_2_deletion_f1f2_num0_1_01_10_FOUR(15)"
   ]
  },
  {
   "cell_type": "code",
   "execution_count": null,
   "id": "867b60a7-d805-4107-b37a-38346cff1130",
   "metadata": {},
   "outputs": [],
   "source": [
    "test_2_deletion_f1f2_num0_1_01_10_FOUR(16)"
   ]
  },
  {
   "cell_type": "code",
   "execution_count": null,
   "id": "caeec9eb-d9c6-4ca9-aee2-37238a209ac8",
   "metadata": {},
   "outputs": [],
   "source": []
  }
 ],
 "metadata": {
  "kernelspec": {
   "display_name": "Python 3 (ipykernel)",
   "language": "python",
   "name": "python3"
  },
  "language_info": {
   "codemirror_mode": {
    "name": "ipython",
    "version": 3
   },
   "file_extension": ".py",
   "mimetype": "text/x-python",
   "name": "python",
   "nbconvert_exporter": "python",
   "pygments_lexer": "ipython3",
   "version": "3.11.9"
  }
 },
 "nbformat": 4,
 "nbformat_minor": 5
}
